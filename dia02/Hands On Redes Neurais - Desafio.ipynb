{
 "cells": [
  {
   "cell_type": "markdown",
   "metadata": {},
   "source": [
    "# Desafio\n",
    "\n",
    "Usuários da eNB1 se afastam da mesma em linha reta e com um ângulo aleatório, enquanto realizam o download de um vídeo de **15 Megabytes**. Eventualmente, devido ao enfraquecimento do sinal da sua eNB, eles fazem handover para a eNB2 ou eNB3 através do algoritmo A3RSRP. Com acesso aos **sinais de referência** das 3 eNBs no momento do handover, e sabendo que a simulação durou **100 segundos**, use redes neurais para prever  **<font color=red>se cada usuário terminará o download em menos de 35 segundos</font>** . Siga as orientações abaixo:\n",
    "\n",
    "1. Escolha apenas três sinais de referência como inputs;\n",
    "2. Divida o dataset entre os conjuntos de treino e testes. Use somente 800 exemplos para o conjunto de treino e 200 para o de testes; \n",
    "3. Clique neste <a href=\"http://scikit-learn.org/stable/modules/classes.html#module-sklearn.preprocessing\">link</a> e veja os métodos de feature scaling disponibilizados pelo módulo *sklearn.preprocessing*. Escolha um método que **não foi previamente utilizado** e padronize os seus dados;\n",
    "4. Use a biblioteca keras para construir sua rede neural. Acesse a <a href=\"https://keras.io/optimizers/\">página de documentação</a> dos otimizadores desta biblioteca e escolha um dos métodos disponíveis. Ao declará-lo em seu código, escolha um passo de aprendizado (**lr**) distinto do padrão.\n",
    "5. Use o grid search para encontrar o melhor formato para a sua rede. Forneça no mínimo 5 opções de número de neurônios na(s) camada(s) escondida(s);\n",
    "6. Use a matriz de confusão para medir o desempenho da rede;\n",
    "7. Trace a curva de aprendizagem do seu modelo.\n",
    "\n",
    "Dica: se lembre de transformar os 15 Megabytes em Megabits.\n",
    "<img src=\"ang.png\" style=\"width: 400px\">"
   ]
  }
 ],
 "metadata": {
  "kernelspec": {
   "display_name": "Python 3",
   "language": "python",
   "name": "python3"
  },
  "language_info": {
   "codemirror_mode": {
    "name": "ipython",
    "version": 3
   },
   "file_extension": ".py",
   "mimetype": "text/x-python",
   "name": "python",
   "nbconvert_exporter": "python",
   "pygments_lexer": "ipython3",
   "version": "3.6.6"
  }
 },
 "nbformat": 4,
 "nbformat_minor": 2
}
