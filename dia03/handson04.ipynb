{
 "cells": [
  {
   "cell_type": "code",
   "execution_count": 8,
   "metadata": {},
   "outputs": [],
   "source": [
    "import numpy as np\n",
    "\n",
    "nan = np.nan\n",
    "\n",
    "T = np.array([[[0.7, 0.3, 0.0], [1.0, 0.0, 0.0], [0.8, 0.2, 0.0]],\n",
    "            [[0.0, 1.0, 0.0], [nan, nan, nan], [0.0, 0.0, 1.0]],\n",
    "            [[nan, nan, nan], [0.8, 0.1, 0.1], [nan, nan, nan]]])\n",
    "\n",
    "R = np.array([[[10., 0.0, 0.0], [0.0, 0.0, 0.0], [0.0, 0.0, 0.0]],\n",
    "            [[10., 0.0, 0.0], [nan, nan, nan], [0.0, 0.0, -50.]],\n",
    "            [[nan, nan, nan], [40, 0.0, 0.0], [nan, nan, nan]]])\n",
    "\n",
    "act_possiveis = [[0, 1, 2],[0, 2],[1]]"
   ]
  },
  {
   "cell_type": "code",
   "execution_count": 16,
   "metadata": {},
   "outputs": [
    {
     "name": "stdout",
     "output_type": "stream",
     "text": [
      "[[21.88646117 20.79149867 16.854807  ]\n",
      " [ 1.10804034        -inf  1.16703135]\n",
      " [       -inf 53.8607061         -inf]]\n",
      "**************************************************\n",
      "[0 2 1]\n"
     ]
    }
   ],
   "source": [
    "Q = np.full((3, 3), -np.inf)\n",
    "\n",
    "for estado, act in enumerate(act_possiveis):\n",
    "    Q[estado, act] = 0.0\n",
    "    \n",
    "learning_rate  = 0.01\n",
    "gamma = 0.95 #gamma\n",
    "n_iterations = 100\n",
    "\n",
    "for iteration in range(n_iterations):\n",
    "    \n",
    "    Q_prev = Q.copy()\n",
    "    \n",
    "    for s in range(3):\n",
    "        for a in act_possiveis[s]:\n",
    "            Q[s, a] = np.sum([T[s, a, sp] * (R[s, a, sp] + gamma * np.max(Q_prev[sp])) for sp in range(3)])\n",
    "            \n",
    "print(Q)\n",
    "print('*'*50)\n",
    "print(np.argmax(Q, axis=1))"
   ]
  },
  {
   "cell_type": "code",
   "execution_count": null,
   "metadata": {},
   "outputs": [],
   "source": []
  }
 ],
 "metadata": {
  "kernelspec": {
   "display_name": "Python 3",
   "language": "python",
   "name": "python3"
  },
  "language_info": {
   "codemirror_mode": {
    "name": "ipython",
    "version": 3
   },
   "file_extension": ".py",
   "mimetype": "text/x-python",
   "name": "python",
   "nbconvert_exporter": "python",
   "pygments_lexer": "ipython3",
   "version": "3.5.2"
  }
 },
 "nbformat": 4,
 "nbformat_minor": 2
}
