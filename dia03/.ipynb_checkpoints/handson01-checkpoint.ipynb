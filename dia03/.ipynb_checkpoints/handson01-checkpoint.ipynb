{
 "cells": [
  {
   "cell_type": "markdown",
   "metadata": {},
   "source": [
    "# Hands-On 1 - Modelagem Ação - Recompensa - Estado"
   ]
  },
  {
   "cell_type": "markdown",
   "metadata": {},
   "source": [
    "Este hands-on destina-se a mostrar e execitar a modelagem das relações **Estado-Ação** e **Estado-Recompensa** para um ambiente simples.\n",
    "\n",
    "Considere o ambiente apresentado abaixo. Este ambiente consiste em uma casa onde um certo agente irá ser inserido em um processo de aprendizagem. \n",
    "\n",
    "![alt text](rlimages/planta_simples.jpg \" Imagem 1\")"
   ]
  },
  {
   "cell_type": "markdown",
   "metadata": {},
   "source": [
    "Esta casa contém 5 cômodos que para a nossa modelagem serão os estados onde o agente pode estar. Assim, podemos definir os estados como apresentado na Imagem a seguir:\n",
    "\n",
    "![alt text](rlimages/planta_simples_estado.png)"
   ]
  },
  {
   "cell_type": "markdown",
   "metadata": {},
   "source": [
    "Primeiramente, vamos focar no **comportamento** do agente dentro deste ambiente dado um objetivo. Para esse exemplo vamos escolher como objetivo chegar à sacada do apartamento e para tal feito deve-se criar um mapeamento **estado-ação** que vai indicar para qual estado o agente vai dado o estado atual dele. O seguinte mapeamento é válido nesse ambiente para o dado objetivo:"
   ]
  },
  {
   "cell_type": "code",
   "execution_count": 2,
   "metadata": {},
   "outputs": [],
   "source": [
    "mapping = {'A':'E', 'B':'C','C':'A','D':'C', 'E':'E'}"
   ]
  },
  {
   "cell_type": "markdown",
   "metadata": {},
   "source": [
    "onde o primeiro item de cada elemento do mapeamento indica o estado atual que o agente está, e o segundo indica o próximo estado que ele deve ir. \n",
    "\n",
    "Agora, já podemos criar um código para resolver este problema dados os estados e ações. Para auxiliar na troca de estados, vamos criar uma função simples de mapeamento que é apresentada a seguir"
   ]
  },
  {
   "cell_type": "code",
   "execution_count": 3,
   "metadata": {},
   "outputs": [],
   "source": [
    "def next(state):\n",
    "\n",
    "    return mapping[state]"
   ]
  },
  {
   "cell_type": "markdown",
   "metadata": {},
   "source": [
    "Esta função retorna o próximo estado dado o estado atual do agente. Por fim, vamos ao código final"
   ]
  },
  {
   "cell_type": "code",
   "execution_count": 4,
   "metadata": {},
   "outputs": [
    {
     "name": "stdout",
     "output_type": "stream",
     "text": [
      "Entre com o estado inicial: d\n",
      "Estado atual: D, proximo estado: C\n",
      "Estado atual: C, proximo estado: A\n",
      "Estado atual: A, proximo estado: E\n"
     ]
    }
   ],
   "source": [
    "import sys # apenas para uso do sys.exit()\n",
    "\n",
    "state = str(input('Entre com o estado inicial: ')).upper() # Usuario define o estado atual via input\n",
    "\n",
    "if state not in mapping:  # assegurar que o usuario nao entre com um estado invalido para o ambiente\n",
    "    \n",
    "    print('Estado invalido!')\n",
    "    print('Estados Possiveis: {}'.format(mapping.keys()))\n",
    "    sys.exit(0)\n",
    "\n",
    "while (state != 'E'): #comportamento do agente no sistema dado o estado atual\n",
    "\n",
    "    next_state = next(state)\n",
    "    print(\"Estado atual: {0}, proximo estado: {1}\".format(state, next_state))\n",
    "    state = next_state\n"
   ]
  },
  {
   "cell_type": "markdown",
   "metadata": {},
   "source": [
    "Observe que para este código o foco é apenas o mapeamento do estado atual do agente para o próximo estado. Vamos agora utilizar o mesmo ambiente, mas focando nas recompensas. \n",
    "\n",
    "***\n",
    "\n",
    "Veja a nova configuração do ambiente dadas recompensas por estado:\n",
    "\n",
    "![alt text](rlimages/planta_simples_recompensa.png)"
   ]
  },
  {
   "cell_type": "markdown",
   "metadata": {},
   "source": [
    "Nesta nova configuração foram atribuídos valores de recompensa para cada estado, sendo a sacada o estado com maior recompensa dado que ela é o objetivo. Não importa, agora, como se chega nesses valores de recompensas, este hands-on está focado apenas na relação estado-recompensa-ação.   \n",
    "\n",
    "Agora, vamos modificar o código anterior para que ele funcione com o mesmo objetivo, porém escolhendo sempre o próximo estado que lhe dá a maior recompensa (ou menor perda), i.e. adotando uma política gulosa. O novo código fica assim:"
   ]
  },
  {
   "cell_type": "code",
   "execution_count": 7,
   "metadata": {},
   "outputs": [
    {
     "name": "stdout",
     "output_type": "stream",
     "text": [
      "Entre com o estado inicial: d\n",
      "Estado atual: D, proximo estado: C\n",
      "Estado atual: C, proximo estado: A\n",
      "Estado atual: A, proximo estado: E\n"
     ]
    }
   ],
   "source": [
    "import numpy as np\n",
    "R = {'A':[-1, -90, -2, -90, 1], #Matrix de recompensas \n",
    "     'B':[-90, -3, -2, -90, -90],\n",
    "     'C':[-1, -3, -2, -3, -90],\n",
    "     'D':[-90, -90, -2, -90, -90],\n",
    "     'E':[-1, -90, -90, -90, 1]} # -90 eh utilizado como referencia mais baixa para indicar um estado que não da para ir\n",
    "\n",
    "map_index = {0:'A',1:'B',2:'C',3:'D',4:'E'} # Mapeamento estados - indices \n",
    "\n",
    "def next_valor(estado): #nova funcao next, mas agora retornando o proximo estado adotando a politica gulosa\n",
    "    \n",
    "    next_state = np.argmax(R[estado])\n",
    "    return map_index[next_state]\n",
    "    \n",
    "state = str(input('Entre com o estado inicial: ')).upper() # Usuario define o estado atual via input\n",
    "\n",
    "if state not in mapping:  # assegurar que o usuario nao entre com um estado invalido para o ambiente\n",
    "    \n",
    "    print('Estado invalido!')\n",
    "    print('Estados Possiveis: {}'.format(mapping.keys()))\n",
    "    sys.exit(0)\n",
    "\n",
    "while (state != 'E'): #comportamento do agente no sistema dado o estado atual\n",
    "\n",
    "    next_state = next_valor(state)\n",
    "    print(\"Estado atual: {0}, proximo estado: {1}\".format(state, next_state))\n",
    "    state = next_state"
   ]
  },
  {
   "cell_type": "markdown",
   "metadata": {},
   "source": [
    "Neste novo código utilizamos as recompensas dadas por cada estado como guia para agente durante a sua busca pelo objetivo. Os valores de *-90* utilizados no mapeamento da variável R são para indicar um \"ponto fora da curva\", i.e para mostrar que dado aquele estado atual, esse próximo estado com recompensa -90 não está disponível (não se pode ir por exemplo direto do estado \"D\" para o estado \"A\").\n",
    "\n",
    "Exposto esses dois exemplos: um de comportamento do agente e outro por recompensa, vamos colocar a mão na massa um pouco.\n",
    "\n",
    "Dado o seguinte ambiente:\n",
    "\n",
    "   ![alt text](rlimages/planta_exec.jpg)\n",
    "    \n",
    "elabore o mapeamento **estado-ação** e **estado-recompensa** utilizando como base os códigos passados. O objetivo é chegar fora da casa. Note também que há duas opções para se chegar fora da casa (quais são?). Modele a parte externa da casa como um estado único. "
   ]
  }
 ],
 "metadata": {
  "kernelspec": {
   "display_name": "Python 3",
   "language": "python",
   "name": "python3"
  },
  "language_info": {
   "codemirror_mode": {
    "name": "ipython",
    "version": 3
   },
   "file_extension": ".py",
   "mimetype": "text/x-python",
   "name": "python",
   "nbconvert_exporter": "python",
   "pygments_lexer": "ipython3",
   "version": "3.5.2"
  }
 },
 "nbformat": 4,
 "nbformat_minor": 2
}
